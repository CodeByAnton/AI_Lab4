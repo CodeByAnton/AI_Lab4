


import random
import numpy as np
import matplotlib.pyplot as plt
import pandas as pd
import seaborn as sns
from sklearn.preprocessing import StandardScaler
from sklearn.model_selection import train_test_split
from sklearn.metrics import accuracy_score, confusion_matrix




data=pd.read_csv('data/diabetes.csv')
data.head()


data.shape


data.info()


data.describe()


# Построение boxplot для каждого признака
for column in data.columns:
    plt.figure(figsize=(6, 4))
    sns.boxplot(data=data, x=column)
    plt.title(f'{column}')
    plt.show()


corr_matrix = data.corr()

# Строим тепловую карту корреляции
plt.figure(figsize=(10, 8))
sns.heatmap(corr_matrix, annot=True, cmap='coolwarm', fmt=".2f", cbar=True)
plt.title('Корреляционная матрица')
plt.show()


X=data.drop('Outcome', axis=1)
y=data['Outcome']
X=(X - X.mean()) / X.std()
X


# Выбор трех случайных признаков
random_columns = random.sample(list(X.columns), 3)

# Создание DataFrame для визуализации
df = X[random_columns].join(y)
df



# Создание 3D графика
fig = plt.figure()
ax = fig.add_subplot(111, projection='3d')

# Цвета для разных классов
colors = {0: "red", 1: "blue"}

# Визуализация
for outcome in y.unique():
    subset = df[df['Outcome'] == outcome]
    ax.scatter(subset[random_columns[0]], subset[random_columns[1]], subset[random_columns[2]], 
               color=colors[outcome], label=f'{outcome}', alpha=0.5)

# Настройка графика
ax.set_xlabel(random_columns[0])
ax.set_ylabel(random_columns[1])
ax.set_zlabel(random_columns[2])
ax.legend()

# Показ графика
plt.show()





class MyKnn:
    def __init__(self, k=3):
        self.k = k
        self.X_train = None
        self.y_train = None

    def fit(self, X, y):
        self.X_train = X
        self.y_train = y

    def predict(self, X):
        predictions = [self._predict(x) for x in X.to_numpy()]
        return np.array(predictions)

    def _predict(self, x):
        
        # Вычисляем расстояния до всех точек в обучающей выборке
        distances = np.linalg.norm(self.X_train.to_numpy() - x, axis=1)
        
        # Получаем индексы k ближайших соседей
        k_indices = np.argsort(distances)[:self.k]

        # Получаем классы ближайших соседей
        k_nearest_labels = self.y_train.iloc[k_indices]

        # Находим наиболее частый класс среди соседей
        most_common = k_nearest_labels.value_counts().idxmax()
        return most_common
    
    
    





def print_result(confusion_matrix_dict,accuracy_dict)->None:
    for i in confusion_matrix_dict.keys():
        print(f'При k={i} матрица ошибок: \n'
              f'{confusion_matrix_dict[i][0]} \n'
              f'{confusion_matrix_dict[i][1]}\n'
              f'Accuracy: {accuracy_dict[i]:.5f}\n')





def compute(X, y, k_values=(3, 5, 7, 11, 15)):
    X_train, X_test, y_train, y_test = train_test_split(X, y, test_size=0.2, random_state=42)
    accuracy_dict={}
    confusion_matrix_dict={}
    for i in k_values:
        myKnn = MyKnn(k=i)
        myKnn.fit(X_train, y_train)
        y_pred = myKnn.predict(X_test)
        TP=np.sum((y_test== 1) & (y_pred == 1))
        TN=np.sum((y_test == 0) & (y_pred == 0))
        FP=np.sum((y_test == 0) & (y_pred == 1))
        FN=np.sum((y_test == 1) & (y_pred == 0))
        
        accuracy_dict[i] = (TP+TN)/(TP+TN+FP+FN)
        
        confusion_matrix_dict[i] = [[TP, FP], [FN, TN]]
    return accuracy_dict, confusion_matrix_dict
    





random_features = np.random.choice(X.columns, 5, replace=False)
print(f'Используемые признаки: {', '.join(random_features)}')

# Выберите только случайные признаки из X
X_random = X[random_features]
accuracy_dict_random_feature, confusion_matrix_dict_random_feature = compute(X_random, y)
print_result(confusion_matrix_dict_random_feature,accuracy_dict_random_feature)





fixed_features = X.columns.tolist()
fixed_features.remove('Pregnancies')
print(f"Используемые признаки: {', '.join(fixed_features)}")
accuracy_dict_fixed_feature, confusion_matrix_dict_fixed_feature= compute(X[fixed_features], y)
print_result(confusion_matrix_dict_fixed_feature,accuracy_dict_fixed_feature)
